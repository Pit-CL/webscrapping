{
 "cells": [
  {
   "cell_type": "markdown",
   "metadata": {},
   "source": [
    "## Web scraping"
   ]
  },
  {
   "cell_type": "markdown",
   "metadata": {},
   "source": [
    "### Ejercicio 1"
   ]
  },
  {
   "cell_type": "markdown",
   "metadata": {},
   "source": [
    "Extraer el título de la página de python.org "
   ]
  },
  {
   "cell_type": "code",
   "execution_count": null,
   "metadata": {},
   "outputs": [],
   "source": [
    "!pip install beautifulsoup4\n",
    "!pip install requests"
   ]
  },
  {
   "cell_type": "code",
   "execution_count": null,
   "metadata": {},
   "outputs": [],
   "source": [
    "## usando urllib\n",
    "from urllib.request import urlopen\n",
    "from bs4 import BeautifulSoup\n",
    " \n",
    "html = urlopen(\"https://www.python.org/\")\n",
    "\n",
    "res = BeautifulSoup(html.read())\n",
    " \n",
    "print(res.title.text)"
   ]
  },
  {
   "cell_type": "code",
   "execution_count": null,
   "metadata": {},
   "outputs": [],
   "source": [
    "## usando requests\n",
    "import requests\n",
    "\n",
    "r = requests.get(\"https://www.python.org/\")\n",
    "\n",
    "res = BeautifulSoup(r.text)\n",
    " \n",
    "print(res.title.text)"
   ]
  },
  {
   "cell_type": "markdown",
   "metadata": {},
   "source": [
    "### Ejercicio 2"
   ]
  },
  {
   "cell_type": "markdown",
   "metadata": {},
   "source": [
    "Extraer notebooks de pc factory"
   ]
  },
  {
   "cell_type": "code",
   "execution_count": null,
   "metadata": {},
   "outputs": [],
   "source": [
    "r = requests.get(\"https://www.pcfactory.cl/notebooks?categoria=735&papa=636\")\n",
    "res = BeautifulSoup(r.text)\n",
    "print(res.title.text)"
   ]
  },
  {
   "cell_type": "code",
   "execution_count": null,
   "metadata": {},
   "outputs": [],
   "source": [
    "npaginas = res.find('span', {'id': 'pag_ter2'}).text\n",
    "print(\"Número de páginas:\", npaginas)"
   ]
  },
  {
   "cell_type": "code",
   "execution_count": null,
   "metadata": {},
   "outputs": [],
   "source": [
    "bd = []\n",
    "\n",
    "for n in range(int(npaginas)):\n",
    "    req = requests.get(\"https://www.pcfactory.cl/notebooks?categoria=735&papa=636&pagina=\" + str(n + 1))\n",
    "\n",
    "    res = BeautifulSoup(req.text)\n",
    "\n",
    "    notebooks = res.find_all('div', {'class': 'wrap-caluga-matrix'})\n",
    "\n",
    "    for n in notebooks:\n",
    "        marca = n.find('span', {'class': 'marca'}).text\n",
    "        nombre = n.find('span', {'class': 'nombre'}).text\n",
    "        precio = n.find('meta', {'itemprop': 'price'})['content']\n",
    "\n",
    "        bd.append({\"brand\": marca, \"name\": nombre, \"price\": int(float(precio))})"
   ]
  },
  {
   "cell_type": "code",
   "execution_count": null,
   "metadata": {},
   "outputs": [],
   "source": [
    "import pandas as pd\n",
    "\n",
    "df = pd.DataFrame(bd)\n",
    "df"
   ]
  },
  {
   "cell_type": "markdown",
   "metadata": {},
   "source": [
    "### Ejercicio 3"
   ]
  },
  {
   "cell_type": "markdown",
   "metadata": {},
   "source": [
    "Extraer productos y precios de linio"
   ]
  },
  {
   "cell_type": "code",
   "execution_count": null,
   "metadata": {},
   "outputs": [],
   "source": [
    "productos = []\n",
    "for i in range(3):\n",
    "    r = requests.get(\"https://www.linio.cl/c/computacion/pc-portatil?page=\" + str(i+1))\n",
    "    res = BeautifulSoup(r.text)\n",
    "    \n",
    "    ..."
   ]
  }
 ],
 "metadata": {
  "kernelspec": {
   "display_name": "Python 3",
   "language": "python",
   "name": "python3"
  },
  "language_info": {
   "codemirror_mode": {
    "name": "ipython",
    "version": 3
   },
   "file_extension": ".py",
   "mimetype": "text/x-python",
   "name": "python",
   "nbconvert_exporter": "python",
   "pygments_lexer": "ipython3",
   "version": "3.8.3"
  }
 },
 "nbformat": 4,
 "nbformat_minor": 2
}
