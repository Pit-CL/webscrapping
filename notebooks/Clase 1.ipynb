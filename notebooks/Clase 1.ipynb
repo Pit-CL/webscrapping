{
 "cells": [
  {
   "cell_type": "markdown",
   "metadata": {},
   "source": [
    "### Ejercicio 1"
   ]
  },
  {
   "cell_type": "code",
   "execution_count": 1,
   "metadata": {},
   "outputs": [
    {
     "ename": "FileNotFoundError",
     "evalue": "[Errno 2] No such file or directory: 'names.txt'",
     "output_type": "error",
     "traceback": [
      "\u001B[0;31m---------------------------------------------------------------------------\u001B[0m",
      "\u001B[0;31mFileNotFoundError\u001B[0m                         Traceback (most recent call last)",
      "\u001B[0;32m<ipython-input-1-6a610d2ea833>\u001B[0m in \u001B[0;36m<module>\u001B[0;34m\u001B[0m\n\u001B[0;32m----> 1\u001B[0;31m \u001B[0;32mwith\u001B[0m \u001B[0mopen\u001B[0m\u001B[0;34m(\u001B[0m\u001B[0;34m'names.txt'\u001B[0m\u001B[0;34m)\u001B[0m \u001B[0;32mas\u001B[0m \u001B[0mf\u001B[0m\u001B[0;34m:\u001B[0m\u001B[0;34m\u001B[0m\u001B[0;34m\u001B[0m\u001B[0m\n\u001B[0m\u001B[1;32m      2\u001B[0m     \u001B[0mlines\u001B[0m \u001B[0;34m=\u001B[0m \u001B[0mf\u001B[0m\u001B[0;34m.\u001B[0m\u001B[0mreadlines\u001B[0m\u001B[0;34m(\u001B[0m\u001B[0;34m)\u001B[0m\u001B[0;34m\u001B[0m\u001B[0;34m\u001B[0m\u001B[0m\n\u001B[1;32m      3\u001B[0m     \u001B[0;32mwith\u001B[0m \u001B[0mopen\u001B[0m\u001B[0;34m(\u001B[0m\u001B[0;34m'data/names.csv'\u001B[0m\u001B[0;34m,\u001B[0m \u001B[0;34m'w'\u001B[0m\u001B[0;34m)\u001B[0m \u001B[0;32mas\u001B[0m \u001B[0mfw\u001B[0m\u001B[0;34m:\u001B[0m\u001B[0;34m\u001B[0m\u001B[0;34m\u001B[0m\u001B[0m\n\u001B[1;32m      4\u001B[0m         \u001B[0mfw\u001B[0m\u001B[0;34m.\u001B[0m\u001B[0mwrite\u001B[0m\u001B[0;34m(\u001B[0m\u001B[0;34m'nombre , apellido\\n'\u001B[0m\u001B[0;34m)\u001B[0m\u001B[0;34m\u001B[0m\u001B[0;34m\u001B[0m\u001B[0m\n\u001B[1;32m      5\u001B[0m         \u001B[0;32mfor\u001B[0m \u001B[0ml\u001B[0m \u001B[0;32min\u001B[0m \u001B[0mlines\u001B[0m\u001B[0;34m:\u001B[0m\u001B[0;34m\u001B[0m\u001B[0;34m\u001B[0m\u001B[0m\n",
      "\u001B[0;31mFileNotFoundError\u001B[0m: [Errno 2] No such file or directory: 'names.txt'"
     ]
    }
   ],
   "source": [
    "with open('names.txt') as f:\n",
    "    lines = f.readlines()\n",
    "    with open('data/names.csv', 'w') as fw:\n",
    "        fw.write('nombre , apellido\\n')\n",
    "        for l in lines:\n",
    "            ##nombre, apellido = l.split()\n",
    "            ##fw.write('{},{}\\n'.format(nombre, apellido))\n",
    "            fw.write(','.join(l.split())+ '\\n')"
   ]
  },
  {
   "cell_type": "markdown",
   "metadata": {},
   "source": [
    "### Ejercicio 2"
   ]
  },
  {
   "cell_type": "code",
   "execution_count": 4,
   "metadata": {},
   "outputs": [
    {
     "ename": "FileNotFoundError",
     "evalue": "[Errno 2] No such file or directory: 'data/el_quijote.txt'",
     "output_type": "error",
     "traceback": [
      "\u001B[0;31m---------------------------------------------------------------------------\u001B[0m",
      "\u001B[0;31mFileNotFoundError\u001B[0m                         Traceback (most recent call last)",
      "\u001B[0;32m<ipython-input-4-aaf99841d5e8>\u001B[0m in \u001B[0;36m<module>\u001B[0;34m\u001B[0m\n\u001B[0;32m----> 1\u001B[0;31m \u001B[0;32mwith\u001B[0m \u001B[0mopen\u001B[0m\u001B[0;34m(\u001B[0m\u001B[0;34m'data/el_quijote.txt'\u001B[0m\u001B[0;34m,\u001B[0m \u001B[0;34m'r'\u001B[0m\u001B[0;34m)\u001B[0m \u001B[0;32mas\u001B[0m \u001B[0mf\u001B[0m\u001B[0;34m:\u001B[0m\u001B[0;34m\u001B[0m\u001B[0;34m\u001B[0m\u001B[0m\n\u001B[0m\u001B[1;32m      2\u001B[0m     \u001B[0mcontent\u001B[0m \u001B[0;34m=\u001B[0m \u001B[0mf\u001B[0m\u001B[0;34m.\u001B[0m\u001B[0mread\u001B[0m\u001B[0;34m(\u001B[0m\u001B[0;34m)\u001B[0m\u001B[0;34m\u001B[0m\u001B[0;34m\u001B[0m\u001B[0m\n\u001B[1;32m      3\u001B[0m \u001B[0;34m\u001B[0m\u001B[0m\n\u001B[1;32m      4\u001B[0m \u001B[0mwords\u001B[0m \u001B[0;34m=\u001B[0m \u001B[0mcontent\u001B[0m\u001B[0;34m.\u001B[0m\u001B[0msplit\u001B[0m\u001B[0;34m(\u001B[0m\u001B[0;34m\" \"\u001B[0m\u001B[0;34m)\u001B[0m\u001B[0;34m\u001B[0m\u001B[0;34m\u001B[0m\u001B[0m\n\u001B[1;32m      5\u001B[0m \u001B[0mcounter\u001B[0m \u001B[0;34m=\u001B[0m \u001B[0;34m{\u001B[0m\u001B[0;34m}\u001B[0m\u001B[0;34m\u001B[0m\u001B[0;34m\u001B[0m\u001B[0m\n",
      "\u001B[0;31mFileNotFoundError\u001B[0m: [Errno 2] No such file or directory: 'data/el_quijote.txt'"
     ]
    }
   ],
   "source": [
    "with open('data/el_quijote.txt', 'r') as f:\n",
    "    content = f.read()\n",
    "    \n",
    "words = content.split(\" \")\n",
    "counter = {}\n",
    "\n",
    "for w in words:\n",
    "    if w in counter:\n",
    "        counter[w] += 1\n",
    "    else:\n",
    "        counter[w] = 0\n",
    "\n",
    "sorted_counter = sorted(counter, key=counter.get, reverse=True)\n",
    "for w in sorted_counter[:10]:\n",
    "    print(w, counter[w])"
   ]
  },
  {
   "cell_type": "code",
   "execution_count": 75,
   "metadata": {},
   "outputs": [],
   "source": [
    "# !pip install nltk"
   ]
  },
  {
   "cell_type": "code",
   "execution_count": 76,
   "metadata": {},
   "outputs": [],
   "source": [
    "from nltk.corpus import stopwords \n",
    "from nltk.tokenize.toktok import ToktokTokenizer\n",
    "from nltk.tokenize import word_tokenize, regexp_tokenize "
   ]
  },
  {
   "cell_type": "code",
   "execution_count": 77,
   "metadata": {},
   "outputs": [
    {
     "name": "stderr",
     "output_type": "stream",
     "text": [
      "[nltk_data] Downloading package stopwords to\n",
      "[nltk_data]     /home/rafaelfarias/nltk_data...\n",
      "[nltk_data]   Package stopwords is already up-to-date!\n",
      "[nltk_data] Downloading package punkt to\n",
      "[nltk_data]     /home/rafaelfarias/nltk_data...\n",
      "[nltk_data]   Package punkt is already up-to-date!\n",
      "[nltk_data] Downloading package perluniprops to\n",
      "[nltk_data]     /home/rafaelfarias/nltk_data...\n",
      "[nltk_data]   Package perluniprops is already up-to-date!\n",
      "[nltk_data] Downloading package nonbreaking_prefixes to\n",
      "[nltk_data]     /home/rafaelfarias/nltk_data...\n",
      "[nltk_data]   Package nonbreaking_prefixes is already up-to-date!\n"
     ]
    },
    {
     "data": {
      "text/plain": "True"
     },
     "execution_count": 77,
     "metadata": {},
     "output_type": "execute_result"
    }
   ],
   "source": [
    "import nltk\n",
    "nltk.download('stopwords')\n",
    "nltk.download('punkt')\n",
    "nltk.download('perluniprops')\n",
    "nltk.download('nonbreaking_prefixes')"
   ]
  },
  {
   "cell_type": "code",
   "execution_count": 78,
   "metadata": {},
   "outputs": [
    {
     "data": {
      "text/plain": "213214"
     },
     "execution_count": 78,
     "metadata": {},
     "output_type": "execute_result"
    }
   ],
   "source": [
    "## defecto para ingles\n",
    "word_tokens = word_tokenize(content.lower())\n",
    "len(word_tokens)"
   ]
  },
  {
   "cell_type": "code",
   "execution_count": 79,
   "metadata": {},
   "outputs": [
    {
     "data": {
      "text/plain": "201202"
     },
     "execution_count": 79,
     "metadata": {},
     "output_type": "execute_result"
    }
   ],
   "source": [
    "## no funciona bien con español, ya que no incluye acentos ni ñ\n",
    "word_tokens = regexp_tokenize(content.lower(), pattern='\\w+') \n",
    "len(word_tokens)"
   ]
  },
  {
   "cell_type": "code",
   "execution_count": 80,
   "metadata": {},
   "outputs": [
    {
     "data": {
      "text/plain": "210818"
     },
     "execution_count": 80,
     "metadata": {},
     "output_type": "execute_result"
    }
   ],
   "source": [
    "## mejor para español pero contiene caracteres como punto, comas, etc..\n",
    "toktok = ToktokTokenizer()\n",
    "word_tokens = toktok.tokenize(content.lower()) \n",
    "len(word_tokens)"
   ]
  },
  {
   "cell_type": "code",
   "execution_count": 81,
   "metadata": {},
   "outputs": [
    {
     "data": {
      "text/plain": "317"
     },
     "execution_count": 81,
     "metadata": {},
     "output_type": "execute_result"
    }
   ],
   "source": [
    "stop_words = list(stopwords.words('spanish')) \n",
    "stop_words += [',', '.', ':', ';'] ## agregamos mas stopwords\n",
    "len(stop_words)"
   ]
  },
  {
   "cell_type": "code",
   "execution_count": 82,
   "metadata": {},
   "outputs": [
    {
     "data": {
      "text/plain": "96107"
     },
     "execution_count": 82,
     "metadata": {},
     "output_type": "execute_result"
    }
   ],
   "source": [
    "filtered_words =[w for w in word_tokens if not w in stop_words ] \n",
    "len(filtered_words)"
   ]
  },
  {
   "cell_type": "code",
   "execution_count": 83,
   "metadata": {},
   "outputs": [
    {
     "data": {
      "text/plain": "[('don', 1070),\n ('si', 970),\n ('más', 959),\n ('tan', 758),\n ('él', 734),\n ('quijote', 670),\n ('había', 669),\n ('dijo', 653),\n ('sancho', 583),\n ('así', 540)]"
     },
     "execution_count": 83,
     "metadata": {},
     "output_type": "execute_result"
    }
   ],
   "source": [
    "from collections import Counter\n",
    "counter = Counter(filtered_words)\n",
    "counter.most_common(10)"
   ]
  },
  {
   "cell_type": "markdown",
   "metadata": {},
   "source": [
    "### Ejercicio 3"
   ]
  },
  {
   "cell_type": "code",
   "execution_count": 84,
   "metadata": {},
   "outputs": [
    {
     "name": "stdout",
     "output_type": "stream",
     "text": [
      "Indicator PUBLISH STATES\n"
     ]
    }
   ],
   "source": [
    "import csv\n",
    "\n",
    "with open('/home/rafaelfarias/Dropbox/Postgrados/MDS/Almacenamiento_y_captura_de_datos/Tarea_WebScrapping/data/data-text.csv', 'r') as f:\n",
    "    reader = csv.reader(f)\n",
    "    for row in reader:\n",
    "        print(row[0], row[1])\n",
    "        break"
   ]
  },
  {
   "cell_type": "code",
   "execution_count": 85,
   "metadata": {},
   "outputs": [
    {
     "data": {
      "text/plain": "                                            Indicator PUBLISH STATES  Year  \\\n0                    Life expectancy at birth (years)      Published  1990   \n1                    Life expectancy at birth (years)      Published  2000   \n2                   Life expectancy at age 60 (years)      Published  2012   \n3                   Life expectancy at age 60 (years)      Published  2000   \n4                    Life expectancy at birth (years)      Published  2012   \n...                                               ...            ...   ...   \n4651  Healthy life expectancy (HALE) at birth (years)      Published  2012   \n4652  Healthy life expectancy (HALE) at birth (years)      Published  2012   \n4653  Healthy life expectancy (HALE) at birth (years)      Published  2000   \n4654  Healthy life expectancy (HALE) at birth (years)      Published  2000   \n4655  Healthy life expectancy (HALE) at birth (years)      Published  2012   \n\n                 WHO region World Bank income group               Country  \\\n0                    Europe             High-income               Andorra   \n1                    Europe             High-income               Andorra   \n2                    Europe             High-income               Andorra   \n3                    Europe             High-income               Andorra   \n4     Eastern Mediterranean             High-income  United Arab Emirates   \n...                     ...                     ...                   ...   \n4651        Western Pacific     Lower-middle-income                 Samoa   \n4652  Eastern Mediterranean              Low-income                 Yemen   \n4653                 Africa     Upper-middle-income          South Africa   \n4654                 Africa              Low-income                Zambia   \n4655                 Africa              Low-income              Zimbabwe   \n\n             Sex  Display Value  Numeric  Low  High  Comments  \n0     Both sexes             77     77.0  NaN   NaN       NaN  \n1     Both sexes             80     80.0  NaN   NaN       NaN  \n2         Female             28     28.0  NaN   NaN       NaN  \n3     Both sexes             23     23.0  NaN   NaN       NaN  \n4         Female             78     78.0  NaN   NaN       NaN  \n...          ...            ...      ...  ...   ...       ...  \n4651      Female             66     66.0  NaN   NaN       NaN  \n4652  Both sexes             54     54.0  NaN   NaN       NaN  \n4653        Male             49     49.0  NaN   NaN       NaN  \n4654  Both sexes             36     36.0  NaN   NaN       NaN  \n4655      Female             51     51.0  NaN   NaN       NaN  \n\n[4656 rows x 12 columns]",
      "text/html": "<div>\n<style scoped>\n    .dataframe tbody tr th:only-of-type {\n        vertical-align: middle;\n    }\n\n    .dataframe tbody tr th {\n        vertical-align: top;\n    }\n\n    .dataframe thead th {\n        text-align: right;\n    }\n</style>\n<table border=\"1\" class=\"dataframe\">\n  <thead>\n    <tr style=\"text-align: right;\">\n      <th></th>\n      <th>Indicator</th>\n      <th>PUBLISH STATES</th>\n      <th>Year</th>\n      <th>WHO region</th>\n      <th>World Bank income group</th>\n      <th>Country</th>\n      <th>Sex</th>\n      <th>Display Value</th>\n      <th>Numeric</th>\n      <th>Low</th>\n      <th>High</th>\n      <th>Comments</th>\n    </tr>\n  </thead>\n  <tbody>\n    <tr>\n      <th>0</th>\n      <td>Life expectancy at birth (years)</td>\n      <td>Published</td>\n      <td>1990</td>\n      <td>Europe</td>\n      <td>High-income</td>\n      <td>Andorra</td>\n      <td>Both sexes</td>\n      <td>77</td>\n      <td>77.0</td>\n      <td>NaN</td>\n      <td>NaN</td>\n      <td>NaN</td>\n    </tr>\n    <tr>\n      <th>1</th>\n      <td>Life expectancy at birth (years)</td>\n      <td>Published</td>\n      <td>2000</td>\n      <td>Europe</td>\n      <td>High-income</td>\n      <td>Andorra</td>\n      <td>Both sexes</td>\n      <td>80</td>\n      <td>80.0</td>\n      <td>NaN</td>\n      <td>NaN</td>\n      <td>NaN</td>\n    </tr>\n    <tr>\n      <th>2</th>\n      <td>Life expectancy at age 60 (years)</td>\n      <td>Published</td>\n      <td>2012</td>\n      <td>Europe</td>\n      <td>High-income</td>\n      <td>Andorra</td>\n      <td>Female</td>\n      <td>28</td>\n      <td>28.0</td>\n      <td>NaN</td>\n      <td>NaN</td>\n      <td>NaN</td>\n    </tr>\n    <tr>\n      <th>3</th>\n      <td>Life expectancy at age 60 (years)</td>\n      <td>Published</td>\n      <td>2000</td>\n      <td>Europe</td>\n      <td>High-income</td>\n      <td>Andorra</td>\n      <td>Both sexes</td>\n      <td>23</td>\n      <td>23.0</td>\n      <td>NaN</td>\n      <td>NaN</td>\n      <td>NaN</td>\n    </tr>\n    <tr>\n      <th>4</th>\n      <td>Life expectancy at birth (years)</td>\n      <td>Published</td>\n      <td>2012</td>\n      <td>Eastern Mediterranean</td>\n      <td>High-income</td>\n      <td>United Arab Emirates</td>\n      <td>Female</td>\n      <td>78</td>\n      <td>78.0</td>\n      <td>NaN</td>\n      <td>NaN</td>\n      <td>NaN</td>\n    </tr>\n    <tr>\n      <th>...</th>\n      <td>...</td>\n      <td>...</td>\n      <td>...</td>\n      <td>...</td>\n      <td>...</td>\n      <td>...</td>\n      <td>...</td>\n      <td>...</td>\n      <td>...</td>\n      <td>...</td>\n      <td>...</td>\n      <td>...</td>\n    </tr>\n    <tr>\n      <th>4651</th>\n      <td>Healthy life expectancy (HALE) at birth (years)</td>\n      <td>Published</td>\n      <td>2012</td>\n      <td>Western Pacific</td>\n      <td>Lower-middle-income</td>\n      <td>Samoa</td>\n      <td>Female</td>\n      <td>66</td>\n      <td>66.0</td>\n      <td>NaN</td>\n      <td>NaN</td>\n      <td>NaN</td>\n    </tr>\n    <tr>\n      <th>4652</th>\n      <td>Healthy life expectancy (HALE) at birth (years)</td>\n      <td>Published</td>\n      <td>2012</td>\n      <td>Eastern Mediterranean</td>\n      <td>Low-income</td>\n      <td>Yemen</td>\n      <td>Both sexes</td>\n      <td>54</td>\n      <td>54.0</td>\n      <td>NaN</td>\n      <td>NaN</td>\n      <td>NaN</td>\n    </tr>\n    <tr>\n      <th>4653</th>\n      <td>Healthy life expectancy (HALE) at birth (years)</td>\n      <td>Published</td>\n      <td>2000</td>\n      <td>Africa</td>\n      <td>Upper-middle-income</td>\n      <td>South Africa</td>\n      <td>Male</td>\n      <td>49</td>\n      <td>49.0</td>\n      <td>NaN</td>\n      <td>NaN</td>\n      <td>NaN</td>\n    </tr>\n    <tr>\n      <th>4654</th>\n      <td>Healthy life expectancy (HALE) at birth (years)</td>\n      <td>Published</td>\n      <td>2000</td>\n      <td>Africa</td>\n      <td>Low-income</td>\n      <td>Zambia</td>\n      <td>Both sexes</td>\n      <td>36</td>\n      <td>36.0</td>\n      <td>NaN</td>\n      <td>NaN</td>\n      <td>NaN</td>\n    </tr>\n    <tr>\n      <th>4655</th>\n      <td>Healthy life expectancy (HALE) at birth (years)</td>\n      <td>Published</td>\n      <td>2012</td>\n      <td>Africa</td>\n      <td>Low-income</td>\n      <td>Zimbabwe</td>\n      <td>Female</td>\n      <td>51</td>\n      <td>51.0</td>\n      <td>NaN</td>\n      <td>NaN</td>\n      <td>NaN</td>\n    </tr>\n  </tbody>\n</table>\n<p>4656 rows × 12 columns</p>\n</div>"
     },
     "execution_count": 85,
     "metadata": {},
     "output_type": "execute_result"
    }
   ],
   "source": [
    "import pandas as pd\n",
    "df = pd.read_csv('/home/rafaelfarias/Dropbox/Postgrados/MDS/Almacenamiento_y_captura_de_datos/Tarea_WebScrapping/data/data-text.csv')\n",
    "df"
   ]
  },
  {
   "cell_type": "code",
   "execution_count": 86,
   "metadata": {},
   "outputs": [],
   "source": [
    "df.to_csv('/home/rafaelfarias/Dropbox/Postgrados/MDS/Almacenamiento_y_captura_de_datos/Tarea_WebScrapping/data/data-text-copy.csv')"
   ]
  },
  {
   "cell_type": "markdown",
   "metadata": {},
   "source": [
    "### Ejercicio 4"
   ]
  },
  {
   "cell_type": "code",
   "execution_count": 87,
   "metadata": {},
   "outputs": [
    {
     "name": "stdout",
     "output_type": "stream",
     "text": [
      "{'Indicator': 'Life expectancy at birth (years)', 'PUBLISH STATES': 'Published', 'Year': 1990, 'WHO region': 'Europe', 'World Bank income group': 'High-income', 'Country': 'Andorra', 'Sex': 'Both sexes', 'Display Value': 77, 'Numeric': 77.0, 'Low': '', 'High': '', 'Comments': ''}\n"
     ]
    }
   ],
   "source": [
    "import json\n",
    "\n",
    "with open('/home/rafaelfarias/Dropbox/Postgrados/MDS/Almacenamiento_y_captura_de_datos/Tarea_WebScrapping/data/data-text.json') as f:\n",
    "    content = f.read()\n",
    "    data = json.loads(content)\n",
    "\n",
    "for item in data:\n",
    "    print(item)\n",
    "    break"
   ]
  },
  {
   "cell_type": "code",
   "execution_count": 88,
   "metadata": {},
   "outputs": [],
   "source": [
    "with open('file.json', 'w') as f:\n",
    "    json.dump(data, f)"
   ]
  },
  {
   "cell_type": "code",
   "execution_count": 89,
   "metadata": {},
   "outputs": [
    {
     "data": {
      "text/plain": "                                            Indicator PUBLISH STATES  Year  \\\n0                    Life expectancy at birth (years)      Published  1990   \n1                    Life expectancy at birth (years)      Published  2000   \n2                   Life expectancy at age 60 (years)      Published  2012   \n3                   Life expectancy at age 60 (years)      Published  2000   \n4                    Life expectancy at birth (years)      Published  2012   \n...                                               ...            ...   ...   \n4651  Healthy life expectancy (HALE) at birth (years)      Published  2012   \n4652  Healthy life expectancy (HALE) at birth (years)      Published  2012   \n4653  Healthy life expectancy (HALE) at birth (years)      Published  2000   \n4654  Healthy life expectancy (HALE) at birth (years)      Published  2000   \n4655  Healthy life expectancy (HALE) at birth (years)      Published  2012   \n\n                 WHO region World Bank income group               Country  \\\n0                    Europe             High-income               Andorra   \n1                    Europe             High-income               Andorra   \n2                    Europe             High-income               Andorra   \n3                    Europe             High-income               Andorra   \n4     Eastern Mediterranean             High-income  United Arab Emirates   \n...                     ...                     ...                   ...   \n4651        Western Pacific     Lower-middle-income                 Samoa   \n4652  Eastern Mediterranean              Low-income                 Yemen   \n4653                 Africa     Upper-middle-income          South Africa   \n4654                 Africa              Low-income                Zambia   \n4655                 Africa              Low-income              Zimbabwe   \n\n             Sex  Display Value  Numeric Low High Comments  \n0     Both sexes             77       77                    \n1     Both sexes             80       80                    \n2         Female             28       28                    \n3     Both sexes             23       23                    \n4         Female             78       78                    \n...          ...            ...      ...  ..  ...      ...  \n4651      Female             66       66                    \n4652  Both sexes             54       54                    \n4653        Male             49       49                    \n4654  Both sexes             36       36                    \n4655      Female             51       51                    \n\n[4656 rows x 12 columns]",
      "text/html": "<div>\n<style scoped>\n    .dataframe tbody tr th:only-of-type {\n        vertical-align: middle;\n    }\n\n    .dataframe tbody tr th {\n        vertical-align: top;\n    }\n\n    .dataframe thead th {\n        text-align: right;\n    }\n</style>\n<table border=\"1\" class=\"dataframe\">\n  <thead>\n    <tr style=\"text-align: right;\">\n      <th></th>\n      <th>Indicator</th>\n      <th>PUBLISH STATES</th>\n      <th>Year</th>\n      <th>WHO region</th>\n      <th>World Bank income group</th>\n      <th>Country</th>\n      <th>Sex</th>\n      <th>Display Value</th>\n      <th>Numeric</th>\n      <th>Low</th>\n      <th>High</th>\n      <th>Comments</th>\n    </tr>\n  </thead>\n  <tbody>\n    <tr>\n      <th>0</th>\n      <td>Life expectancy at birth (years)</td>\n      <td>Published</td>\n      <td>1990</td>\n      <td>Europe</td>\n      <td>High-income</td>\n      <td>Andorra</td>\n      <td>Both sexes</td>\n      <td>77</td>\n      <td>77</td>\n      <td></td>\n      <td></td>\n      <td></td>\n    </tr>\n    <tr>\n      <th>1</th>\n      <td>Life expectancy at birth (years)</td>\n      <td>Published</td>\n      <td>2000</td>\n      <td>Europe</td>\n      <td>High-income</td>\n      <td>Andorra</td>\n      <td>Both sexes</td>\n      <td>80</td>\n      <td>80</td>\n      <td></td>\n      <td></td>\n      <td></td>\n    </tr>\n    <tr>\n      <th>2</th>\n      <td>Life expectancy at age 60 (years)</td>\n      <td>Published</td>\n      <td>2012</td>\n      <td>Europe</td>\n      <td>High-income</td>\n      <td>Andorra</td>\n      <td>Female</td>\n      <td>28</td>\n      <td>28</td>\n      <td></td>\n      <td></td>\n      <td></td>\n    </tr>\n    <tr>\n      <th>3</th>\n      <td>Life expectancy at age 60 (years)</td>\n      <td>Published</td>\n      <td>2000</td>\n      <td>Europe</td>\n      <td>High-income</td>\n      <td>Andorra</td>\n      <td>Both sexes</td>\n      <td>23</td>\n      <td>23</td>\n      <td></td>\n      <td></td>\n      <td></td>\n    </tr>\n    <tr>\n      <th>4</th>\n      <td>Life expectancy at birth (years)</td>\n      <td>Published</td>\n      <td>2012</td>\n      <td>Eastern Mediterranean</td>\n      <td>High-income</td>\n      <td>United Arab Emirates</td>\n      <td>Female</td>\n      <td>78</td>\n      <td>78</td>\n      <td></td>\n      <td></td>\n      <td></td>\n    </tr>\n    <tr>\n      <th>...</th>\n      <td>...</td>\n      <td>...</td>\n      <td>...</td>\n      <td>...</td>\n      <td>...</td>\n      <td>...</td>\n      <td>...</td>\n      <td>...</td>\n      <td>...</td>\n      <td>...</td>\n      <td>...</td>\n      <td>...</td>\n    </tr>\n    <tr>\n      <th>4651</th>\n      <td>Healthy life expectancy (HALE) at birth (years)</td>\n      <td>Published</td>\n      <td>2012</td>\n      <td>Western Pacific</td>\n      <td>Lower-middle-income</td>\n      <td>Samoa</td>\n      <td>Female</td>\n      <td>66</td>\n      <td>66</td>\n      <td></td>\n      <td></td>\n      <td></td>\n    </tr>\n    <tr>\n      <th>4652</th>\n      <td>Healthy life expectancy (HALE) at birth (years)</td>\n      <td>Published</td>\n      <td>2012</td>\n      <td>Eastern Mediterranean</td>\n      <td>Low-income</td>\n      <td>Yemen</td>\n      <td>Both sexes</td>\n      <td>54</td>\n      <td>54</td>\n      <td></td>\n      <td></td>\n      <td></td>\n    </tr>\n    <tr>\n      <th>4653</th>\n      <td>Healthy life expectancy (HALE) at birth (years)</td>\n      <td>Published</td>\n      <td>2000</td>\n      <td>Africa</td>\n      <td>Upper-middle-income</td>\n      <td>South Africa</td>\n      <td>Male</td>\n      <td>49</td>\n      <td>49</td>\n      <td></td>\n      <td></td>\n      <td></td>\n    </tr>\n    <tr>\n      <th>4654</th>\n      <td>Healthy life expectancy (HALE) at birth (years)</td>\n      <td>Published</td>\n      <td>2000</td>\n      <td>Africa</td>\n      <td>Low-income</td>\n      <td>Zambia</td>\n      <td>Both sexes</td>\n      <td>36</td>\n      <td>36</td>\n      <td></td>\n      <td></td>\n      <td></td>\n    </tr>\n    <tr>\n      <th>4655</th>\n      <td>Healthy life expectancy (HALE) at birth (years)</td>\n      <td>Published</td>\n      <td>2012</td>\n      <td>Africa</td>\n      <td>Low-income</td>\n      <td>Zimbabwe</td>\n      <td>Female</td>\n      <td>51</td>\n      <td>51</td>\n      <td></td>\n      <td></td>\n      <td></td>\n    </tr>\n  </tbody>\n</table>\n<p>4656 rows × 12 columns</p>\n</div>"
     },
     "execution_count": 89,
     "metadata": {},
     "output_type": "execute_result"
    }
   ],
   "source": [
    "df = pd.read_json('/home/rafaelfarias/Dropbox/Postgrados/MDS/Almacenamiento_y_captura_de_datos/Tarea_WebScrapping/data/data-text.json')\n",
    "df"
   ]
  },
  {
   "cell_type": "code",
   "execution_count": 90,
   "metadata": {},
   "outputs": [],
   "source": [
    "df.to_json('/home/rafaelfarias/Dropbox/Postgrados/MDS/Almacenamiento_y_captura_de_datos/Tarea_WebScrapping/data/data-text-copy.json')"
   ]
  },
  {
   "cell_type": "markdown",
   "metadata": {},
   "source": [
    "### Ejercicio 5"
   ]
  },
  {
   "cell_type": "code",
   "execution_count": 91,
   "metadata": {},
   "outputs": [],
   "source": [
    "#!conda install xlrd"
   ]
  },
  {
   "cell_type": "code",
   "execution_count": 92,
   "metadata": {},
   "outputs": [
    {
     "ename": "XLRDError",
     "evalue": "Excel xlsx file; not supported",
     "output_type": "error",
     "traceback": [
      "\u001B[0;31m---------------------------------------------------------------------------\u001B[0m",
      "\u001B[0;31mXLRDError\u001B[0m                                 Traceback (most recent call last)",
      "\u001B[0;32m<ipython-input-92-db47c8e94abb>\u001B[0m in \u001B[0;36m<module>\u001B[0;34m\u001B[0m\n\u001B[1;32m      1\u001B[0m \u001B[0;32mimport\u001B[0m \u001B[0mxlrd\u001B[0m\u001B[0;34m\u001B[0m\u001B[0;34m\u001B[0m\u001B[0m\n\u001B[0;32m----> 2\u001B[0;31m \u001B[0mbook\u001B[0m \u001B[0;34m=\u001B[0m \u001B[0mxlrd\u001B[0m\u001B[0;34m.\u001B[0m\u001B[0mopen_workbook\u001B[0m\u001B[0;34m(\u001B[0m\u001B[0;34m\"/home/rafaelfarias/Dropbox/Postgrados/MDS/Almacenamiento_y_captura_de_datos/Tarea_WebScrapping/data/SOWC 2014 Stat Tables_Table 9.xlsx\"\u001B[0m\u001B[0;34m)\u001B[0m\u001B[0;34m\u001B[0m\u001B[0;34m\u001B[0m\u001B[0m\n\u001B[0m\u001B[1;32m      3\u001B[0m \u001B[0;34m\u001B[0m\u001B[0m\n\u001B[1;32m      4\u001B[0m \u001B[0;31m# sheet = book.sheet_by_name(\"Table 9 \")\u001B[0m\u001B[0;34m\u001B[0m\u001B[0;34m\u001B[0m\u001B[0;34m\u001B[0m\u001B[0m\n\u001B[1;32m      5\u001B[0m \u001B[0msheet\u001B[0m \u001B[0;34m=\u001B[0m \u001B[0mbook\u001B[0m\u001B[0;34m.\u001B[0m\u001B[0msheet_by_index\u001B[0m\u001B[0;34m(\u001B[0m\u001B[0;36m1\u001B[0m\u001B[0;34m)\u001B[0m\u001B[0;34m\u001B[0m\u001B[0;34m\u001B[0m\u001B[0m\n",
      "\u001B[0;32m~/miniconda3/envs/webscrapping/lib/python3.8/site-packages/xlrd/__init__.py\u001B[0m in \u001B[0;36mopen_workbook\u001B[0;34m(filename, logfile, verbosity, use_mmap, file_contents, encoding_override, formatting_info, on_demand, ragged_rows, ignore_workbook_corruption)\u001B[0m\n\u001B[1;32m    168\u001B[0m     \u001B[0;31m# files that xlrd can parse don't start with the expected signature.\u001B[0m\u001B[0;34m\u001B[0m\u001B[0;34m\u001B[0m\u001B[0;34m\u001B[0m\u001B[0m\n\u001B[1;32m    169\u001B[0m     \u001B[0;32mif\u001B[0m \u001B[0mfile_format\u001B[0m \u001B[0;32mand\u001B[0m \u001B[0mfile_format\u001B[0m \u001B[0;34m!=\u001B[0m \u001B[0;34m'xls'\u001B[0m\u001B[0;34m:\u001B[0m\u001B[0;34m\u001B[0m\u001B[0;34m\u001B[0m\u001B[0m\n\u001B[0;32m--> 170\u001B[0;31m         \u001B[0;32mraise\u001B[0m \u001B[0mXLRDError\u001B[0m\u001B[0;34m(\u001B[0m\u001B[0mFILE_FORMAT_DESCRIPTIONS\u001B[0m\u001B[0;34m[\u001B[0m\u001B[0mfile_format\u001B[0m\u001B[0;34m]\u001B[0m\u001B[0;34m+\u001B[0m\u001B[0;34m'; not supported'\u001B[0m\u001B[0;34m)\u001B[0m\u001B[0;34m\u001B[0m\u001B[0;34m\u001B[0m\u001B[0m\n\u001B[0m\u001B[1;32m    171\u001B[0m \u001B[0;34m\u001B[0m\u001B[0m\n\u001B[1;32m    172\u001B[0m     bk = open_workbook_xls(\n",
      "\u001B[0;31mXLRDError\u001B[0m: Excel xlsx file; not supported"
     ]
    }
   ],
   "source": [
    "import xlrd\n",
    "book = xlrd.open_workbook(\"/home/rafaelfarias/Dropbox/Postgrados/MDS/Almacenamiento_y_captura_de_datos/Tarea_WebScrapping/data/SOWC 2014 Stat Tables_Table 9.xlsx\")\n",
    "\n",
    "# sheet = book.sheet_by_name(\"Table 9 \")\n",
    "sheet = book.sheet_by_index(1)\n",
    "\n",
    "print(sheet.name)\n",
    "print(sheet.nrows)\n",
    "print(sheet.ncols)"
   ]
  },
  {
   "cell_type": "code",
   "execution_count": null,
   "metadata": {},
   "outputs": [],
   "source": [
    "df = pd.DataFrame(columns = ['Name', 'child_labor_total', 'child_labor_male','child_labor_female', \n",
    "                             'child_marriage_married_by_15', 'child_marriage_married_by_18']) \n",
    "for i in range(14, 211):\n",
    "\n",
    "    # Start at 14th row, because that is where the countries begin\n",
    "    row = sheet.row_values(i)\n",
    "    \n",
    "    df = df.append({'Name' : row[1], 'child_labor_total' : row[4], 'child_labor_male' : row[6],\n",
    "                   'child_labor_female': row[8], 'child_marriage_married_by_15': row[10],\n",
    "                   'child_marriage_married_by_18': row[12]}, ignore_index=True) \n",
    "\n",
    "    if row[1] == \"Zimbabwe\":\n",
    "        break\n"
   ]
  },
  {
   "cell_type": "code",
   "execution_count": null,
   "metadata": {},
   "outputs": [],
   "source": [
    "\n",
    "df"
   ]
  },
  {
   "cell_type": "code",
   "execution_count": null,
   "metadata": {},
   "outputs": [],
   "source": [
    "## usando pandas"
   ]
  },
  {
   "cell_type": "code",
   "execution_count": 93,
   "metadata": {},
   "outputs": [
    {
     "ename": "ValueError",
     "evalue": "Your version of xlrd is 2.0.1. In xlrd >= 2.0, only the xls format is supported. Install openpyxl instead.",
     "output_type": "error",
     "traceback": [
      "\u001B[0;31m---------------------------------------------------------------------------\u001B[0m",
      "\u001B[0;31mValueError\u001B[0m                                Traceback (most recent call last)",
      "\u001B[0;32m<ipython-input-93-33faa2c4f605>\u001B[0m in \u001B[0;36m<module>\u001B[0;34m\u001B[0m\n\u001B[0;32m----> 1\u001B[0;31m \u001B[0mdf\u001B[0m \u001B[0;34m=\u001B[0m \u001B[0mpd\u001B[0m\u001B[0;34m.\u001B[0m\u001B[0mread_excel\u001B[0m\u001B[0;34m(\u001B[0m\u001B[0;34m\"/home/rafaelfarias/Dropbox/Postgrados/MDS/Almacenamiento_y_captura_de_datos/Tarea_WebScrapping/data/SOWC 2014 Stat Tables_Table 9.xlsx\"\u001B[0m\u001B[0;34m,\u001B[0m \u001B[0msheet_name\u001B[0m\u001B[0;34m=\u001B[0m\u001B[0;36m1\u001B[0m\u001B[0;34m,\u001B[0m \u001B[0mheader\u001B[0m\u001B[0;34m=\u001B[0m\u001B[0;32mNone\u001B[0m\u001B[0;34m)\u001B[0m\u001B[0;34m\u001B[0m\u001B[0;34m\u001B[0m\u001B[0m\n\u001B[0m\u001B[1;32m      2\u001B[0m \u001B[0;34m\u001B[0m\u001B[0m\n",
      "\u001B[0;32m~/miniconda3/envs/webscrapping/lib/python3.8/site-packages/pandas/util/_decorators.py\u001B[0m in \u001B[0;36mwrapper\u001B[0;34m(*args, **kwargs)\u001B[0m\n\u001B[1;32m    297\u001B[0m                 )\n\u001B[1;32m    298\u001B[0m                 \u001B[0mwarnings\u001B[0m\u001B[0;34m.\u001B[0m\u001B[0mwarn\u001B[0m\u001B[0;34m(\u001B[0m\u001B[0mmsg\u001B[0m\u001B[0;34m,\u001B[0m \u001B[0mFutureWarning\u001B[0m\u001B[0;34m,\u001B[0m \u001B[0mstacklevel\u001B[0m\u001B[0;34m=\u001B[0m\u001B[0mstacklevel\u001B[0m\u001B[0;34m)\u001B[0m\u001B[0;34m\u001B[0m\u001B[0;34m\u001B[0m\u001B[0m\n\u001B[0;32m--> 299\u001B[0;31m             \u001B[0;32mreturn\u001B[0m \u001B[0mfunc\u001B[0m\u001B[0;34m(\u001B[0m\u001B[0;34m*\u001B[0m\u001B[0margs\u001B[0m\u001B[0;34m,\u001B[0m \u001B[0;34m**\u001B[0m\u001B[0mkwargs\u001B[0m\u001B[0;34m)\u001B[0m\u001B[0;34m\u001B[0m\u001B[0;34m\u001B[0m\u001B[0m\n\u001B[0m\u001B[1;32m    300\u001B[0m \u001B[0;34m\u001B[0m\u001B[0m\n\u001B[1;32m    301\u001B[0m         \u001B[0;32mreturn\u001B[0m \u001B[0mwrapper\u001B[0m\u001B[0;34m\u001B[0m\u001B[0;34m\u001B[0m\u001B[0m\n",
      "\u001B[0;32m~/miniconda3/envs/webscrapping/lib/python3.8/site-packages/pandas/io/excel/_base.py\u001B[0m in \u001B[0;36mread_excel\u001B[0;34m(io, sheet_name, header, names, index_col, usecols, squeeze, dtype, engine, converters, true_values, false_values, skiprows, nrows, na_values, keep_default_na, na_filter, verbose, parse_dates, date_parser, thousands, comment, skipfooter, convert_float, mangle_dupe_cols, storage_options)\u001B[0m\n\u001B[1;32m    334\u001B[0m     \u001B[0;32mif\u001B[0m \u001B[0;32mnot\u001B[0m \u001B[0misinstance\u001B[0m\u001B[0;34m(\u001B[0m\u001B[0mio\u001B[0m\u001B[0;34m,\u001B[0m \u001B[0mExcelFile\u001B[0m\u001B[0;34m)\u001B[0m\u001B[0;34m:\u001B[0m\u001B[0;34m\u001B[0m\u001B[0;34m\u001B[0m\u001B[0m\n\u001B[1;32m    335\u001B[0m         \u001B[0mshould_close\u001B[0m \u001B[0;34m=\u001B[0m \u001B[0;32mTrue\u001B[0m\u001B[0;34m\u001B[0m\u001B[0;34m\u001B[0m\u001B[0m\n\u001B[0;32m--> 336\u001B[0;31m         \u001B[0mio\u001B[0m \u001B[0;34m=\u001B[0m \u001B[0mExcelFile\u001B[0m\u001B[0;34m(\u001B[0m\u001B[0mio\u001B[0m\u001B[0;34m,\u001B[0m \u001B[0mstorage_options\u001B[0m\u001B[0;34m=\u001B[0m\u001B[0mstorage_options\u001B[0m\u001B[0;34m,\u001B[0m \u001B[0mengine\u001B[0m\u001B[0;34m=\u001B[0m\u001B[0mengine\u001B[0m\u001B[0;34m)\u001B[0m\u001B[0;34m\u001B[0m\u001B[0;34m\u001B[0m\u001B[0m\n\u001B[0m\u001B[1;32m    337\u001B[0m     \u001B[0;32melif\u001B[0m \u001B[0mengine\u001B[0m \u001B[0;32mand\u001B[0m \u001B[0mengine\u001B[0m \u001B[0;34m!=\u001B[0m \u001B[0mio\u001B[0m\u001B[0;34m.\u001B[0m\u001B[0mengine\u001B[0m\u001B[0;34m:\u001B[0m\u001B[0;34m\u001B[0m\u001B[0;34m\u001B[0m\u001B[0m\n\u001B[1;32m    338\u001B[0m         raise ValueError(\n",
      "\u001B[0;32m~/miniconda3/envs/webscrapping/lib/python3.8/site-packages/pandas/io/excel/_base.py\u001B[0m in \u001B[0;36m__init__\u001B[0;34m(self, path_or_buffer, engine, storage_options)\u001B[0m\n\u001B[1;32m   1100\u001B[0m \u001B[0;34m\u001B[0m\u001B[0m\n\u001B[1;32m   1101\u001B[0m             \u001B[0;32mif\u001B[0m \u001B[0mext\u001B[0m \u001B[0;34m!=\u001B[0m \u001B[0;34m\"xls\"\u001B[0m \u001B[0;32mand\u001B[0m \u001B[0mxlrd_version\u001B[0m \u001B[0;34m>=\u001B[0m \u001B[0;34m\"2\"\u001B[0m\u001B[0;34m:\u001B[0m\u001B[0;34m\u001B[0m\u001B[0;34m\u001B[0m\u001B[0m\n\u001B[0;32m-> 1102\u001B[0;31m                 raise ValueError(\n\u001B[0m\u001B[1;32m   1103\u001B[0m                     \u001B[0;34mf\"Your version of xlrd is {xlrd_version}. In xlrd >= 2.0, \"\u001B[0m\u001B[0;34m\u001B[0m\u001B[0;34m\u001B[0m\u001B[0m\n\u001B[1;32m   1104\u001B[0m                     \u001B[0;34mf\"only the xls format is supported. Install openpyxl instead.\"\u001B[0m\u001B[0;34m\u001B[0m\u001B[0;34m\u001B[0m\u001B[0m\n",
      "\u001B[0;31mValueError\u001B[0m: Your version of xlrd is 2.0.1. In xlrd >= 2.0, only the xls format is supported. Install openpyxl instead."
     ]
    }
   ],
   "source": [
    "df = pd.read_excel(\"/home/rafaelfarias/Dropbox/Postgrados/MDS/Almacenamiento_y_captura_de_datos/Tarea_WebScrapping/data/SOWC 2014 Stat Tables_Table 9.xlsx\", sheet_name=1, header=None)"
   ]
  },
  {
   "cell_type": "code",
   "execution_count": null,
   "metadata": {},
   "outputs": [],
   "source": [
    "df"
   ]
  },
  {
   "cell_type": "code",
   "execution_count": null,
   "metadata": {},
   "outputs": [],
   "source": [
    "df = df.iloc[14:211,[1,4,6,8,10,12]].reset_index(drop=True)"
   ]
  },
  {
   "cell_type": "code",
   "execution_count": null,
   "metadata": {},
   "outputs": [],
   "source": [
    "df"
   ]
  },
  {
   "cell_type": "code",
   "execution_count": null,
   "metadata": {},
   "outputs": [],
   "source": [
    "names = {\n",
    "    1: 'Name',\n",
    "    4: 'child_labor_total',\n",
    "    6: 'child_labor_male',\n",
    "    8: 'child_labor_female',\n",
    "    10: 'child_marriage_married_by_15',\n",
    "    12: 'child_marriage_married_by_18'\n",
    "    }\n",
    "\n",
    "df.rename(columns=names)"
   ]
  }
 ],
 "metadata": {
  "kernelspec": {
   "display_name": "Python 3",
   "language": "python",
   "name": "python3"
  },
  "language_info": {
   "codemirror_mode": {
    "name": "ipython",
    "version": 3
   },
   "file_extension": ".py",
   "mimetype": "text/x-python",
   "name": "python",
   "nbconvert_exporter": "python",
   "pygments_lexer": "ipython3",
   "version": "3.8.3"
  }
 },
 "nbformat": 4,
 "nbformat_minor": 4
}