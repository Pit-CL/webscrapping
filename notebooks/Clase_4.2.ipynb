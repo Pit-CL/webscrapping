{
 "cells": [
  {
   "cell_type": "markdown",
   "metadata": {},
   "source": [
    "## Web scraping con Selenium\n",
    "\n"
   ]
  },
  {
   "cell_type": "markdown",
   "metadata": {},
   "source": [
    "### Ejercicio 1"
   ]
  },
  {
   "cell_type": "markdown",
   "metadata": {},
   "source": [
    "Extraer los resultados de google.cl al consultar por Magister en data science"
   ]
  },
  {
   "cell_type": "code",
   "execution_count": null,
   "metadata": {},
   "outputs": [],
   "source": [
    "!pip install -U selenium\n",
    "!pip install webdriver-manager"
   ]
  },
  {
   "cell_type": "code",
   "execution_count": null,
   "metadata": {},
   "outputs": [],
   "source": [
    "from selenium import webdriver\n",
    "from selenium.webdriver.common.keys import Keys\n",
    "from webdriver_manager.chrome import ChromeDriverManager"
   ]
  },
  {
   "cell_type": "code",
   "execution_count": null,
   "metadata": {},
   "outputs": [],
   "source": [
    "# abro el navegador\n",
    "driver = webdriver.Chrome(ChromeDriverManager().install())\n",
    "driver.implicitly_wait(3)\n",
    "\n",
    "# escribo url\n",
    "driver.get('https://google.cl')\n",
    "\n",
    "# busco input para la búsqueda\n",
    "elem = driver.find_element_by_name('q')\n",
    "elem.clear()\n",
    "elem.send_keys(\"Magister en data science\")\n",
    "\n",
    "# apreto enter\n",
    "elem.send_keys(Keys.RETURN)\n",
    "\n",
    "# extraigo elementos de resultados de consulta e imprimo\n",
    "elems = driver.find_elements_by_css_selector('div.g')\n",
    "for e in elems:\n",
    "    try:\n",
    "        print(e.find_element_by_tag_name('h3').text)\n",
    "        print(e.find_element_by_tag_name('cite').text)\n",
    "        print()\n",
    "    except:\n",
    "        print(\"No encontré elementos\")\n",
    "        print()\n",
    "    \n",
    "# cierro el navegador    \n",
    "driver.close()"
   ]
  },
  {
   "cell_type": "markdown",
   "metadata": {},
   "source": [
    "### Ejercicio 2"
   ]
  },
  {
   "cell_type": "markdown",
   "metadata": {},
   "source": [
    "Extraer lista de paises y superficies desde Wikipedia"
   ]
  },
  {
   "cell_type": "code",
   "execution_count": null,
   "metadata": {},
   "outputs": [],
   "source": [
    "import time \n",
    "\n",
    "driver = webdriver.Chrome(ChromeDriverManager().install())\n",
    "driver.implicitly_wait(3)\n",
    "\n",
    "driver.get('https://es.wikipedia.org') \n",
    "\n",
    "elem = driver.find_element_by_name('search')\n",
    "elem.clear()\n",
    "\n",
    "elem.send_keys('paises por superficie')\n",
    "elem.send_keys(Keys.RETURN)\n",
    "\n",
    "columna    = [] \n",
    "territorio = [] \n",
    "superficie = [] \n",
    "   \n",
    "elemento_1 = driver.find_elements_by_xpath(\"//tr/td[2]\")\n",
    "for e in elemento_1:\n",
    "    territorio.append(e.text)\n",
    "    \n",
    "elemento_2 = driver.find_elements_by_xpath(\"//tr/td[3]\")\n",
    "\n",
    "\n",
    "for a in elemento_2:\n",
    "    superficie.append(a.text)\n",
    "\n",
    "#Cierro el navegador\n",
    "driver.close()\n"
   ]
  },
  {
   "cell_type": "markdown",
   "metadata": {},
   "source": [
    "### Ejercicio 3"
   ]
  },
  {
   "cell_type": "markdown",
   "metadata": {},
   "source": [
    "Extraer últimos 100 departamentos en arriendo en la comuna de Santiago, desde la página portalinmobiliario.com"
   ]
  },
  {
   "cell_type": "code",
   "execution_count": null,
   "metadata": {},
   "outputs": [],
   "source": [
    "driver = webdriver.Chrome(ChromeDriverManager().install())\n",
    "driver.implicitly_wait(3)\n",
    "\n",
    "driver.get(\"https://www.portalinmobiliario.com\")\n",
    "\n",
    "\n",
    "##### completar"
   ]
  }
 ],
 "metadata": {
  "kernelspec": {
   "display_name": "Python 3",
   "language": "python",
   "name": "python3"
  },
  "language_info": {
   "codemirror_mode": {
    "name": "ipython",
    "version": 3
   },
   "file_extension": ".py",
   "mimetype": "text/x-python",
   "name": "python",
   "nbconvert_exporter": "python",
   "pygments_lexer": "ipython3",
   "version": "3.6.9"
  }
 },
 "nbformat": 4,
 "nbformat_minor": 2
}
